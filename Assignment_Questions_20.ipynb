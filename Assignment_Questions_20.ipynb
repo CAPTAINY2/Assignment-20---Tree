{
  "nbformat": 4,
  "nbformat_minor": 0,
  "metadata": {
    "colab": {
      "provenance": [],
      "authorship_tag": "ABX9TyPHAy+XcjZT11GHcZ5g947x",
      "include_colab_link": true
    },
    "kernelspec": {
      "name": "python3",
      "display_name": "Python 3"
    },
    "language_info": {
      "name": "python"
    }
  },
  "cells": [
    {
      "cell_type": "markdown",
      "metadata": {
        "id": "view-in-github",
        "colab_type": "text"
      },
      "source": [
        "<a href=\"https://colab.research.google.com/github/CAPTAINY2/Assignment-20---Tree/blob/main/Assignment_Questions_20.ipynb\" target=\"_parent\"><img src=\"https://colab.research.google.com/assets/colab-badge.svg\" alt=\"Open In Colab\"/></a>"
      ]
    },
    {
      "cell_type": "markdown",
      "source": [
        "### QUESTION-1"
      ],
      "metadata": {
        "id": "dwnig4YhpbDN"
      }
    },
    {
      "cell_type": "code",
      "source": [
        "import sys\n",
        "\n",
        "class Node:\n",
        "    def __init__(self, value):\n",
        "        self.value = value\n",
        "        self.left = None\n",
        "        self.right = None\n",
        "\n",
        "def sum(node):\n",
        "    if node is None:\n",
        "        return 0\n",
        "\n",
        "    left = sum(node.left)\n",
        "    right = sum(node.right)\n",
        "\n",
        "    current = left + right + node.value\n",
        "\n",
        "    global max_sum\n",
        "    max_sum = max(node.value, current, max_sum)\n",
        "\n",
        "    return current\n",
        "\n",
        "def subtree_sum(root):\n",
        "    global max_sum\n",
        "    max_sum = -sys.maxsize - 1\n",
        "\n",
        "    sum(root)\n",
        "\n",
        "    return max_sum\n",
        "\n",
        "root = Node(1)\n",
        "root.left = Node(2)\n",
        "root.right = Node(3)\n",
        "root.left.left = Node(4)\n",
        "root.left.right = Node(5)\n",
        "root.right.left = Node(6)\n",
        "root.right.right = Node(7)\n",
        "\n",
        "print(\"Output 1:\", subtree_sum(root))\n",
        "\n",
        "root = Node(1)\n",
        "root.left = Node(-2)\n",
        "root.right = Node(3)\n",
        "root.left.left = Node(4)\n",
        "root.left.right = Node(5)\n",
        "root.right.left = Node(-6)\n",
        "root.right.right = Node(2)\n",
        "\n",
        "print(\"Output 2:\", subtree_sum(root))\n"
      ],
      "metadata": {
        "id": "9D--QeWpOkkS",
        "colab": {
          "base_uri": "https://localhost:8080/"
        },
        "outputId": "2d6ee444-c3fc-467b-a03c-121f61c4686b"
      },
      "execution_count": 3,
      "outputs": [
        {
          "output_type": "stream",
          "name": "stdout",
          "text": [
            "Output 1: 28\n",
            "Output 2: 7\n"
          ]
        }
      ]
    },
    {
      "cell_type": "markdown",
      "source": [
        "### QUESTION-2"
      ],
      "metadata": {
        "id": "ve2_KyjdphAM"
      }
    },
    {
      "cell_type": "code",
      "source": [
        "class Node:\n",
        "    def __init__(self, value):\n",
        "        self.value = value\n",
        "        self.left = None\n",
        "        self.right = None\n",
        "\n",
        "def insert(root, value):\n",
        "    if root is None:\n",
        "        return Node(value)\n",
        "    if value < root.value:\n",
        "        root.left = insert(root.left, value)\n",
        "    else:\n",
        "        root.right = insert(root.right, value)\n",
        "    return root\n",
        "\n",
        "def constructBST(level_order):\n",
        "    if len(level_order) == 0:\n",
        "        return None\n",
        "\n",
        "    root = None\n",
        "    for value in level_order:\n",
        "        root = insert(root, value)\n",
        "\n",
        "    return root\n",
        "\n",
        "def traversal(node):\n",
        "    if node is None:\n",
        "        return []\n",
        "    left_traversal = traversal(node.left)\n",
        "    right_traversal = traversal(node.right)\n",
        "    return left_traversal + [node.value] + right_traversal\n",
        "\n",
        "level_order = [7, 4, 12, 3, 6, 8, 1, 5, 10]\n",
        "\n",
        "bst = constructBST(level_order)\n",
        "\n",
        "inorder = traversal(bst)\n",
        "print(\"Output : BST:\")\n",
        "for value in inorder:\n",
        "    print(value)\n"
      ],
      "metadata": {
        "colab": {
          "base_uri": "https://localhost:8080/"
        },
        "id": "_Epr8GKEesJc",
        "outputId": "f4faddf9-1b3b-4bd6-e35b-f1a5216634e0"
      },
      "execution_count": 7,
      "outputs": [
        {
          "output_type": "stream",
          "name": "stdout",
          "text": [
            "Output : BST:\n",
            "1\n",
            "3\n",
            "4\n",
            "5\n",
            "6\n",
            "7\n",
            "8\n",
            "10\n",
            "12\n"
          ]
        }
      ]
    },
    {
      "cell_type": "markdown",
      "source": [
        "### QUESTION-3"
      ],
      "metadata": {
        "id": "Dp4urECdpjnz"
      }
    },
    {
      "cell_type": "code",
      "source": [
        "from collections import deque\n",
        "\n",
        "def is_level_order_bst(arr):\n",
        "    if not arr:\n",
        "        return \"No\"  # Empty array\n",
        "\n",
        "    n = len(arr)\n",
        "    q = deque()\n",
        "    root = arr[0]\n",
        "    q.append(root)\n",
        "    i = 1\n",
        "\n",
        "    while i < n:\n",
        "        curr = q.popleft()\n",
        "\n",
        "        # Find the first element greater than the current node\n",
        "        j = i\n",
        "        while j < n and arr[j] < curr:\n",
        "            q.append(arr[j])\n",
        "            j += 1\n",
        "\n",
        "        # Check if there are any invalid elements in the right subtree\n",
        "        while j < n and arr[j] >= curr:\n",
        "            if arr[j] < curr:\n",
        "                return \"No\"\n",
        "            q.append(arr[j])\n",
        "            j += 1\n",
        "\n",
        "        i = j\n",
        "\n",
        "    return \"Yes\"\n",
        "\n",
        "# Example usage\n",
        "arr = [7, 4, 12, 3, 6, 8, 1, 5, 10]\n",
        "print(is_level_order_bst(arr))\n"
      ],
      "metadata": {
        "colab": {
          "base_uri": "https://localhost:8080/"
        },
        "id": "ddSOVjO7m2mP",
        "outputId": "0238323a-54cb-45d7-a966-48c2b891b682"
      },
      "execution_count": 24,
      "outputs": [
        {
          "output_type": "stream",
          "name": "stdout",
          "text": [
            "Yes\n"
          ]
        }
      ]
    },
    {
      "cell_type": "code",
      "source": [],
      "metadata": {
        "id": "t-C1uXRVpNwJ"
      },
      "execution_count": null,
      "outputs": []
    }
  ]
}